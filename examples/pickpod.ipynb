{
  "nbformat": 4,
  "nbformat_minor": 0,
  "metadata": {
    "colab": {
      "provenance": [],
      "include_colab_link": true
    },
    "kernelspec": {
      "name": "python3",
      "display_name": "Python 3"
    },
    "language_info": {
      "name": "python"
    }
  },
  "cells": [
    {
      "cell_type": "markdown",
      "metadata": {
        "id": "view-in-github",
        "colab_type": "text"
      },
      "source": [
        "<a href=\"https://colab.research.google.com/github/shixiangcap/pickpod/blob/main/examples/pickpod.ipynb\" target=\"_parent\"><img src=\"https://colab.research.google.com/assets/colab-badge.svg\" alt=\"Open In Colab\"/></a>"
      ]
    },
    {
      "cell_type": "markdown",
      "source": [
        "# Pickpod\n",
        "\n",
        "Integrated tools to transfer internet audio to text, extract unpopular views, and pick up podcasts for you."
      ],
      "metadata": {
        "id": "KBM6nDy-elUb"
      }
    },
    {
      "cell_type": "markdown",
      "source": [
        "As mentioned in [Pickpod](https://github.com/shixiangcap/pickpod#pickpod),  `ffmpeg and ffprobe` are necessary within the system.\n",
        "\n",
        "For `colab`, we need to check the `ffmpeg binary` before installing `Pickpod`."
      ],
      "metadata": {
        "id": "imMnBcNZpVfn"
      }
    },
    {
      "cell_type": "code",
      "source": [
        "# Check ffmpeg\n",
        "! ffmpeg -version"
      ],
      "metadata": {
        "id": "rvgQ1a-QJtDh"
      },
      "execution_count": null,
      "outputs": []
    },
    {
      "cell_type": "code",
      "source": [
        "# Install pickpod and restart the runtime\n",
        "! pip install -U pickpod"
      ],
      "metadata": {
        "id": "obsgCOF9FICt"
      },
      "execution_count": null,
      "outputs": []
    },
    {
      "cell_type": "markdown",
      "source": [
        "After installation, we can import `Pickpod`."
      ],
      "metadata": {
        "id": "8GAmCwp-quN2"
      }
    },
    {
      "cell_type": "code",
      "source": [
        "from pickpod.config import TaskConfig\n",
        "from pickpod.draft import AudioDraft\n",
        "from pickpod.task import PickpodTask"
      ],
      "metadata": {
        "id": "MV3Sw_-4w2UH"
      },
      "execution_count": null,
      "outputs": []
    },
    {
      "cell_type": "markdown",
      "source": [
        "A `Pickpod` task includes several steps: getting audio from the internet or locally, transferring internet audio to text, getting speaker diarization, and analyzing the transcribed text by `LLM` respectively.\n",
        "\n",
        "To configure these steps, here are some optional arguments.\n",
        "\n",
        "```python\n",
        "key_hugging_face # User key for hugging face. If speaker diarization is needed, you should enter it when running the block below.\n",
        "key_claude # User key for claude. If 'LLM' analysis is needed, you should enter it when running the block below.\n",
        "ydl_option # Configuration of 'yt_dlp'. We suggest you keep it default here.\n",
        "path_wav # 'WAV' audio output path. We suggest you keep it default here.\n",
        "task_language # Audio language for 'WhisperModel'. We suggest you keep it default here.\n",
        "task_prompt # Audio prompt for 'WhisperModel'. We suggest you keep it default here.\n",
        "pipeline # Get speaker diarization or not.\n",
        "keyword # Get keywords of the transcription result or not. It is a 'LLM' analysis.\n",
        "summary # Get summary of the transcription result or not. It is a 'LLM' analysis.\n",
        "view # Get views of the transcription result or not. It is a 'LLM' analysis.\n",
        "```"
      ],
      "metadata": {
        "id": "LcZZCbWArsP6"
      }
    },
    {
      "cell_type": "code",
      "source": [
        "# Safe input\n",
        "from getpass import getpass\n",
        "\n",
        "HUGGING_FACE_KEY = getpass(\"Enter your hugging face key\")\n",
        "CLAUDE_KEY = getpass(\"Enter your claude key\")\n",
        "\n",
        "# Config pickpod task\n",
        "task_config = TaskConfig(\n",
        "    key_hugging_face=HUGGING_FACE_KEY,\n",
        "    key_claude=CLAUDE_KEY,\n",
        "    # ydl_option=None,\n",
        "    # path_wav=\"\",\n",
        "    # task_language=\"\",\n",
        "    # task_prompt=\"\",\n",
        "    pipeline=False,\n",
        "    keyword=False,\n",
        "    summary=False,\n",
        "    view=False\n",
        ")"
      ],
      "metadata": {
        "id": "HmZJdQPS0KYr"
      },
      "execution_count": null,
      "outputs": []
    },
    {
      "cell_type": "markdown",
      "source": [
        "When the configuration of the `Pickpod` task is done, you can input audio from the internet.\n",
        "\n",
        "Then start."
      ],
      "metadata": {
        "id": "oPsJhY3WscSr"
      }
    },
    {
      "cell_type": "code",
      "source": [
        "# For example: https://www.youtube.com/watch?v=xxxxxxxxxxx\n",
        "audio_url = \"YOUR_AUDIO_URL_ON_INTERNET\"\n",
        "\n",
        "# Set audio information\n",
        "audio_draft = AudioDraft(audio_url=audio_url)\n",
        "# Initial pickpod task\n",
        "pickpod_task = PickpodTask(audio_draft, task_config)\n",
        "# Start pickpod task\n",
        "pickpod_task.pickpod_with_url()\n",
        "# Print the result of pickpod task\n",
        "print(pickpod_task.__dict__)"
      ],
      "metadata": {
        "id": "_8C2PPt_LiHT"
      },
      "execution_count": null,
      "outputs": []
    },
    {
      "cell_type": "markdown",
      "source": [
        "You also can input audio in the local where `colab` can read.\n",
        "\n",
        "Then start."
      ],
      "metadata": {
        "id": "GNjvQbuU-bJM"
      }
    },
    {
      "cell_type": "code",
      "source": [
        "# For example: xxxxxxxxxxx.m4a\n",
        "audio_path = \"YOUR_LOCAL_FILE_PATH\"\n",
        "\n",
        "# Set audio information\n",
        "audio_draft = AudioDraft(audio_path=audio_path)\n",
        "# Initial pickpod task\n",
        "pickpod_task = PickpodTask(audio_draft, task_config)\n",
        "# Start pickpod task\n",
        "pickpod_task.pickpod_with_local()\n",
        "# Save the result of pickpod task\n",
        "pickpod_task.save_to_txt()"
      ],
      "metadata": {
        "id": "t2KgV13S0M6M"
      },
      "execution_count": null,
      "outputs": []
    }
  ]
}